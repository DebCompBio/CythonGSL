{
 "metadata": {
  "name": "cythongsl_examples"
 },
 "nbformat": 3,
 "nbformat_minor": 0,
 "worksheets": [
  {
   "cells": [
    {
     "cell_type": "code",
     "collapsed": false,
     "input": [
      "%load_ext cythonmagic\n",
      "import cython_gsl"
     ],
     "language": "python",
     "metadata": {},
     "outputs": [],
     "prompt_number": 1
    },
    {
     "cell_type": "code",
     "collapsed": false,
     "input": [
      "%%cython -l gsl -l gslcblas\n",
      "'''\n",
      "Gibbs sampler for function:\n",
      "\n",
      "f(x,y) = x x^2 \\exp(-xy^2 - y^2 + 2y - 4x)\n",
      "\n",
      "using conditional distributions:\n",
      "\n",
      "x|y \\sim Gamma(3, y^2 +4)\n",
      "y|x \\sim Normal(\\frac{1}{1+x}, \\frac{1}{2(1+x)})\n",
      "\n",
      "Original version written by Flavio Coelho.\n",
      "Tweaked by Chris Fonnesbeck.\n",
      "Ported to CythonGSL Thomas V. Wiecki.\n",
      "'''\n",
      "cimport cython\n",
      "from cython_gsl cimport *\n",
      "\n",
      "import numpy as np\n",
      "from numpy cimport *\n",
      "\n",
      "cdef gsl_rng *r = gsl_rng_alloc(gsl_rng_mt19937)\n",
      "\n",
      "def gibbs(int N=20000, int thin=500):\n",
      "    cdef: \n",
      "        double x=0\n",
      "        double y=0\n",
      "        Py_ssize_t i, j\n",
      "        ndarray[float64_t, ndim=2] samples\n",
      "\n",
      "    samples = np.empty((N,thin))\n",
      "\n",
      "    for i in range(N):\n",
      "        for j in range(thin):\n",
      "            x = gsl_ran_gamma(r,3,1.0/(y*y+4))\n",
      "            y = gsl_ran_gaussian(r,1.0/sqrt(x+1))\n",
      "        samples[i,0] = x\n",
      "        samples[i,1] = y\n",
      "    return samples"
     ],
     "language": "python",
     "metadata": {},
     "outputs": [],
     "prompt_number": 14
    },
    {
     "cell_type": "code",
     "collapsed": false,
     "input": [
      "gibbs()"
     ],
     "language": "python",
     "metadata": {},
     "outputs": [
      {
       "output_type": "pyout",
       "prompt_number": 15,
       "text": [
        "array([[ 0.51761749, -0.57020484,  0.        , ...,  0.        ,\n",
        "         0.        ,  0.        ],\n",
        "       [ 0.27471331, -0.3819557 ,  0.        , ...,  0.        ,\n",
        "         0.        ,  0.        ],\n",
        "       [ 0.91053483,  0.79826647,  0.        , ...,  0.        ,\n",
        "         0.        ,  0.        ],\n",
        "       ..., \n",
        "       [ 1.48414005,  1.83619944,  0.        , ...,  0.        ,\n",
        "         0.        ,  0.        ],\n",
        "       [ 0.68548892, -1.48654412,  0.        , ...,  0.        ,\n",
        "         0.        ,  0.        ],\n",
        "       [ 0.64984713, -0.2603249 ,  0.        , ...,  0.        ,\n",
        "         0.        ,  0.        ]])"
       ]
      }
     ],
     "prompt_number": 15
    },
    {
     "cell_type": "code",
     "collapsed": false,
     "input": [
      "%%cython -l gsl -l gslcblas\n",
      "\n",
      "cimport cython\n",
      "from cython_gsl cimport *\n",
      "\n",
      "import numpy as np\n",
      "from numpy cimport *\n",
      "\n",
      "cdef gsl_rng *r = gsl_rng_alloc(gsl_rng_mt19937)\n",
      "\n",
      "def multinomial(ndarray[double, ndim=1] p, unsigned int N):\n",
      "    cdef:\n",
      "       size_t K = p.shape[0]\n",
      "       ndarray[uint32_t, ndim=1] n = np.empty_like(p, dtype='uint32')\n",
      "    \n",
      "    # void gsl_ran_multinomial (const gsl_rng * r, size_t K, unsigned int N, const double p[], unsigned int n[])\n",
      "    gsl_ran_multinomial(r, K, N, <double*> p.data, <unsigned int *> n.data)\n",
      "    \n",
      "    return n"
     ],
     "language": "python",
     "metadata": {},
     "outputs": [],
     "prompt_number": 2
    },
    {
     "cell_type": "code",
     "collapsed": false,
     "input": [
      "multinomial(np.array([.2, .2, .2, .2, .2], dtype='double'), 500)"
     ],
     "language": "python",
     "metadata": {},
     "outputs": [
      {
       "output_type": "pyout",
       "prompt_number": 11,
       "text": [
        "array([109, 101, 100,  89, 101], dtype=uint32)"
       ]
      }
     ],
     "prompt_number": 11
    }
   ],
   "metadata": {}
  }
 ]
}